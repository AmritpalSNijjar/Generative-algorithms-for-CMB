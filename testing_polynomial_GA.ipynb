{
 "cells": [
  {
   "cell_type": "code",
   "execution_count": 1,
   "id": "6be10d59",
   "metadata": {},
   "outputs": [],
   "source": [
    "import numpy as np\n",
    "import matplotlib.pyplot as plt"
   ]
  },
  {
   "cell_type": "code",
   "execution_count": 2,
   "id": "3eb0217b",
   "metadata": {},
   "outputs": [],
   "source": [
    "from transfer_func_models.GA_polynomial import *"
   ]
  },
  {
   "cell_type": "code",
   "execution_count": 3,
   "id": "3fb83546",
   "metadata": {},
   "outputs": [
    {
     "name": "stdout",
     "output_type": "stream",
     "text": [
      "2.0873403619030646\n",
      "2.0873403619030646\n"
     ]
    }
   ],
   "source": [
    "# Representing the following polynomial as a candPolynomial().\n",
    "# p(a, b, c) = 7 + 0.8*a^2 + 9*c^0.2 + 1.2*(b^2)*(c^0.3)\n",
    "\n",
    "var_names = [\"a\", \"b\", \"c\"]\n",
    "vars_dict = {\"a\" : 0.4, \"b\" : 0.3, \"c\" : 0.7}\n",
    "\n",
    "candPoly = candPolynomial(var_names, order = \"second\")\n",
    "\n",
    "def true_polynomial(vars_dict):\n",
    "    # sanity check function\n",
    "    return 0 + 0.8*vars_dict[\"a\"]**2 + 2*vars_dict[\"c\"]**0.2 + 1.2*(vars_dict[\"b\"]**2)*(vars_dict[\"c\"]**0.3)\n",
    "\n",
    "params_dict = {}\n",
    "params_dict[\"offset\"] = 0\n",
    "params_dict[\"first_order_keeps\"] = np.array([1, 0, 1])\n",
    "params_dict[\"first_order_coeffs\"] = np.array([0.8, 0, 2])\n",
    "params_dict[\"first_order_exps\"] = np.array([2, 0, 0.2])\n",
    "params_dict[\"second_order_keeps\"] = np.array([0, 0, 1])\n",
    "params_dict[\"second_order_coeffs\"] = np.array([0, 0, 1.2])\n",
    "params_dict[\"second_order_exps\"] = np.array([0, 0, 0, 0, 2, 0.3])\n",
    "\n",
    "candPoly.set_params(params_dict)\n",
    "\n",
    "print(true_polynomial(vars_dict))\n",
    "print(candPoly.compute(vars_dict))"
   ]
  },
  {
   "cell_type": "code",
   "execution_count": 4,
   "id": "32c5989e",
   "metadata": {},
   "outputs": [
    {
     "name": "stdout",
     "output_type": "stream",
     "text": [
      "Generating data with a = 0.9830318892671555, b = 0.6562965089286218, c = 0.41515343773157254 ...\n",
      "Generating data with a = 0.07497145502343305, b = 0.12082379636279694, c = 0.6961853971320422 ...\n",
      "Generating data with a = 0.24627298259464148, b = 0.821678802507645, c = 0.5100396948063056 ...\n",
      "Generating data with a = 0.38793051198696815, b = 0.8445653091189447, c = 0.712824617745938 ...\n",
      "Generating data with a = 0.5029918956443729, b = 0.3833874814588274, c = 0.7648097847150594 ...\n",
      "Generating data with a = 0.5673734549576915, b = 0.8396386435694695, c = 0.6054284654528123 ...\n",
      "Generating data with a = 0.23844722108256455, b = 0.16223763944311065, c = 0.439226123114589 ...\n",
      "Generating data with a = 0.18610810601296202, b = 0.37067671437277994, c = 0.3778782354032608 ...\n",
      "Generating data with a = 0.0980278027901097, b = 0.5029228042055005, c = 0.7263913657688656 ...\n",
      "Generating data with a = 0.6858924946545895, b = 0.9645649320361327, c = 0.8545863598406579 ...\n",
      "Generating data with a = 0.3224954552886491, b = 0.6122921313368072, c = 0.891388385520607 ...\n",
      "Generating data with a = 0.9633628058856057, b = 0.6923807473601268, c = 0.836423027589544 ...\n",
      "Generating data with a = 0.904743244979705, b = 0.9202097447463239, c = 0.48093907582895246 ...\n",
      "Generating data with a = 0.08488727686884767, b = 0.5312663588718112, c = 0.46282665081618324 ...\n",
      "Generating data with a = 0.44969070464403726, b = 0.2469798137952124, c = 0.7076507211950104 ...\n",
      "Generating data with a = 0.009397179580667103, b = 0.09453833461603323, c = 0.772483027681668 ...\n",
      "Generating data with a = 0.32815652963094355, b = 0.5800312861993762, c = 0.8192993436611278 ...\n",
      "Generating data with a = 0.5677262270973628, b = 0.20645892053383796, c = 0.5210548336894344 ...\n",
      "Generating data with a = 0.6281706949791509, b = 0.06139078445066626, c = 0.5884261296076343 ...\n",
      "Generating data with a = 0.0608381320095599, b = 0.7228602475683777, c = 0.8376581737056066 ...\n",
      "Generating data with a = 0.16505417480062778, b = 0.10019798849628925, c = 0.7101693168029051 ...\n",
      "Generating data with a = 0.5297067891966039, b = 0.49821879284091086, c = 0.6045786407748187 ...\n",
      "Generating data with a = 0.2679317842483009, b = 0.7436103576031962, c = 0.9081983371465726 ...\n",
      "Generating data with a = 0.6582705907643713, b = 0.12407637508510583, c = 0.05575173029935354 ...\n",
      "Generating data with a = 0.10817670762054787, b = 0.26063828567123304, c = 0.7333442013654978 ...\n",
      "Generating data with a = 0.3421923318376807, b = 0.1721233944630115, c = 0.6079220732160991 ...\n",
      "Generating data with a = 0.5994238376629033, b = 0.8049583127956841, c = 0.23784354893652704 ...\n",
      "Generating data with a = 0.07105069629699112, b = 0.06018600832974186, c = 0.9019155422258076 ...\n",
      "Generating data with a = 0.3776336184643586, b = 0.6065228537633377, c = 0.8815418563390783 ...\n",
      "Generating data with a = 0.6392595136579093, b = 0.5199220424291534, c = 0.12328974061503739 ...\n"
     ]
    }
   ],
   "source": [
    "# now consider trying to model the function\n",
    "# f(x; a, b, c) = x^p(a, b, c)\n",
    "# where p(a, b, c) is the same as above\n",
    "\n",
    "# generating example data\n",
    "datapoints = []\n",
    "\n",
    "n_datapoints = 30\n",
    "Xs = np.linspace(0.5, 2.5, 100)\n",
    "\n",
    "for i in range(n_datapoints):\n",
    "    a = np.random.uniform(0, 1)\n",
    "    b = np.random.uniform(0, 1)\n",
    "    c = np.random.uniform(0, 1)\n",
    "    print(f\"Generating data with a = {a}, b = {b}, c = {c} ...\")\n",
    "    vars_dict = {\"a\" : a, \"b\" : b, \"c\" : c}\n",
    "    Ys = Xs**true_polynomial(vars_dict)\n",
    "    #print(true_polynomial(vars_dict))\n",
    "    \n",
    "    datapoints.append(dataPoint(vars_dict, Xs, Ys))\n"
   ]
  },
  {
   "cell_type": "code",
   "execution_count": 5,
   "id": "da19c23e",
   "metadata": {},
   "outputs": [],
   "source": [
    "ranges_dict = {}\n",
    "\n",
    "ranges_dict[\"offset_range\"] = np.array([-10, 10]) \n",
    "        \n",
    "ranges_dict[\"first_order_coeff_ranges\"] = np.array([[-10, 10] for i in range(3)])\n",
    "ranges_dict[\"first_order_exp_ranges\"] = np.array([[0, 3] for i in range(3)])\n",
    "        \n",
    "ranges_dict[\"second_order_coeff_ranges\"] = np.array([[-2, 2] for i in range(3)])\n",
    "ranges_dict[\"second_order_exp_ranges\"] = np.array([[0, 3] for i in range(6)])\n",
    "\n",
    "config = {\"generations\":200, \n",
    "          \"population\": 1000,\n",
    "          \"var_names\":var_names,\n",
    "          \"order\":\"second\",\n",
    "          \"learn_offset\": False,\n",
    "          \"mutation_rate\": [0.4, 0.5],\n",
    "          \"ranges_dict\":ranges_dict,\n",
    "          \"t_subgroup_size\": 3,\n",
    "          \"t_win_probability\": 0.8,\n",
    "          \"percent_keep_per_gen\": 0.4}\n",
    "\n",
    "ga_poly = geneticAlgorithmPolynomial(config, datapoints[:20])"
   ]
  },
  {
   "cell_type": "code",
   "execution_count": null,
   "id": "890a3c20",
   "metadata": {},
   "outputs": [
    {
     "name": "stdout",
     "output_type": "stream",
     "text": [
      "Initializing random initial population...\n",
      "Starting genetic algorithm...\n",
      "Generation --    Fitness\n",
      "1 --    0.021972692421180096\n",
      "11 --    0.013603187700814416\n",
      "21 --    0.0028851323438021936\n",
      "31 --    0.0031458763147357155\n",
      "41 --    2.9303222475938422e-05\n",
      "51 --    4.6111004437165946e-05\n",
      "61 --    4.6111004437165946e-05\n",
      "71 --    4.6111004437165946e-05\n",
      "81 --    4.6111004437165946e-05\n",
      "91 --    4.6111004437165946e-05\n",
      "101 --    4.6111004437165946e-05\n",
      "111 --    4.6111004437165946e-05\n",
      "121 --    4.6111004437165946e-05\n",
      "131 --    2.492071170768939e-05\n",
      "141 --    4.6111004437165946e-05\n",
      "151 --    4.6111004437165946e-05\n",
      "161 --    4.6111004437165946e-05\n"
     ]
    }
   ],
   "source": [
    "ga_poly.run_algorithm()"
   ]
  },
  {
   "cell_type": "code",
   "execution_count": null,
   "id": "44dd3750",
   "metadata": {},
   "outputs": [],
   "source": [
    "best = ga_poly.kids[1]\n",
    "best.represent()\n",
    "candPoly.represent()"
   ]
  },
  {
   "cell_type": "code",
   "execution_count": null,
   "id": "f0056395",
   "metadata": {},
   "outputs": [],
   "source": [
    "fig, ax = plt.subplots(1)\n",
    "\n",
    "for k in range(0,30):\n",
    "    true = datapoints[k].y_var\n",
    "    modeled = datapoints[k].x_var**(best.compute(datapoints[k].params_dict))\n",
    "    ax.plot(datapoints[k].x_var, np.abs((modeled - true)/true), label = f\"model {k}\")\n",
    "    ax.legend()\n",
    "#ax.plot(datapoints[0].x_var, true, label = \"true\")\n",
    "ax.set_ylim(0,2)"
   ]
  },
  {
   "cell_type": "code",
   "execution_count": null,
   "id": "45e981c2",
   "metadata": {},
   "outputs": [],
   "source": []
  },
  {
   "cell_type": "code",
   "execution_count": null,
   "id": "3661d6f6",
   "metadata": {},
   "outputs": [],
   "source": []
  },
  {
   "cell_type": "code",
   "execution_count": null,
   "id": "7311eafe",
   "metadata": {},
   "outputs": [],
   "source": []
  }
 ],
 "metadata": {
  "kernelspec": {
   "display_name": "Python 3 (ipykernel)",
   "language": "python",
   "name": "python3"
  },
  "language_info": {
   "codemirror_mode": {
    "name": "ipython",
    "version": 3
   },
   "file_extension": ".py",
   "mimetype": "text/x-python",
   "name": "python",
   "nbconvert_exporter": "python",
   "pygments_lexer": "ipython3",
   "version": "3.9.7"
  }
 },
 "nbformat": 4,
 "nbformat_minor": 5
}
