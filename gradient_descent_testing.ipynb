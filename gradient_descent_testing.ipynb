{
 "cells": [
  {
   "cell_type": "code",
   "execution_count": 8,
   "id": "bcf29035",
   "metadata": {},
   "outputs": [
    {
     "ename": "ModuleNotFoundError",
     "evalue": "No module named 'Dataset'",
     "output_type": "error",
     "traceback": [
      "\u001b[0;31m---------------------------------------------------------------------------\u001b[0m",
      "\u001b[0;31mModuleNotFoundError\u001b[0m                       Traceback (most recent call last)",
      "\u001b[0;32m/var/folders/x5/mt3y0q2n65zcpd0hz503pkx00000gn/T/ipykernel_40047/2810871892.py\u001b[0m in \u001b[0;36m<module>\u001b[0;34m\u001b[0m\n\u001b[1;32m      4\u001b[0m \u001b[0;32mimport\u001b[0m \u001b[0mmatplotlib\u001b[0m\u001b[0;34m.\u001b[0m\u001b[0mpyplot\u001b[0m \u001b[0;32mas\u001b[0m \u001b[0mplt\u001b[0m\u001b[0;34m\u001b[0m\u001b[0;34m\u001b[0m\u001b[0m\n\u001b[1;32m      5\u001b[0m \u001b[0;34m\u001b[0m\u001b[0m\n\u001b[0;32m----> 6\u001b[0;31m \u001b[0;32mimport\u001b[0m \u001b[0mDataset\u001b[0m\u001b[0;34m,\u001b[0m \u001b[0mDataLoader\u001b[0m\u001b[0;34m\u001b[0m\u001b[0;34m\u001b[0m\u001b[0m\n\u001b[0m",
      "\u001b[0;31mModuleNotFoundError\u001b[0m: No module named 'Dataset'"
     ]
    }
   ],
   "source": [
    "import torch\n",
    "import torch.nn as nn\n",
    "import numpy as np\n",
    "import matplotlib.pyplot as plt\n",
    "\n",
    "from torch.utils.data import Dataset, DataLoader"
   ]
  },
  {
   "cell_type": "code",
   "execution_count": 10,
   "id": "fb1b1f1f",
   "metadata": {},
   "outputs": [
    {
     "ename": "ImportError",
     "evalue": "attempted relative import with no known parent package",
     "output_type": "error",
     "traceback": [
      "\u001b[0;31m---------------------------------------------------------------------------\u001b[0m",
      "\u001b[0;31mImportError\u001b[0m                               Traceback (most recent call last)",
      "\u001b[0;32m/var/folders/x5/mt3y0q2n65zcpd0hz503pkx00000gn/T/ipykernel_40047/4021071887.py\u001b[0m in \u001b[0;36m<module>\u001b[0;34m\u001b[0m\n\u001b[0;32m----> 1\u001b[0;31m \u001b[0;32mfrom\u001b[0m \u001b[0;34m.\u001b[0m \u001b[0;32mimport\u001b[0m \u001b[0mget_data_sets\u001b[0m\u001b[0;34m,\u001b[0m \u001b[0mtransferFunctionMofel\u001b[0m\u001b[0;34m,\u001b[0m \u001b[0mtraining_loop\u001b[0m\u001b[0;34m\u001b[0m\u001b[0;34m\u001b[0m\u001b[0m\n\u001b[0m",
      "\u001b[0;31mImportError\u001b[0m: attempted relative import with no known parent package"
     ]
    }
   ],
   "source": [
    "from . import get_data_sets, transferFunctionMofel, training_loop"
   ]
  },
  {
   "cell_type": "code",
   "execution_count": null,
   "id": "878a1b1e",
   "metadata": {},
   "outputs": [],
   "source": [
    "train, val = get_data_sets(\"camb_transfer_data.txt\", 0.8)\n",
    "\n",
    "train_loader = DataLoader(train, batch_size=512, shuffle=True)\n",
    "val_loader   = DataLoader(val, batch_size=512, shuffle=True)\n",
    "\n",
    "test_ranges = torch.tensor([[0, 10], [0, 4], [0, 4], [0, 10], [0, 10], [0, 4], [0, 4], [0, 10], [0, 10], [0, 4], [0, 10], [0, 4], [0, 10], [0, 100], [0, 4], [0, 100], [0, 4], [0, 10], [0, 4], [0, 10], [0, 4], [0, 10], [0, 4], [0, 20], [0, 4], [0, 4]])\n",
    "test_ranges = torch.transpose(test_ranges, 0, 1)\n",
    "model = transferFunctionModel(n_params = 26, init_pars_ranges = test_ranges)\n",
    "optimizer = torch.optim.Adam(model.parameters(), lr=1e-2)#, weight_decay=1e-5)\n",
    "loss = loss_fn\n",
    "\n",
    "training_loop(1000, model, train_loader, loss, optimizer)"
   ]
  }
 ],
 "metadata": {
  "kernelspec": {
   "display_name": "Python 3 (ipykernel)",
   "language": "python",
   "name": "python3"
  },
  "language_info": {
   "codemirror_mode": {
    "name": "ipython",
    "version": 3
   },
   "file_extension": ".py",
   "mimetype": "text/x-python",
   "name": "python",
   "nbconvert_exporter": "python",
   "pygments_lexer": "ipython3",
   "version": "3.9.7"
  }
 },
 "nbformat": 4,
 "nbformat_minor": 5
}
