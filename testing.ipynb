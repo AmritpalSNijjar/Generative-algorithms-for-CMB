{
 "cells": [
  {
   "cell_type": "code",
   "execution_count": 25,
   "id": "17048f5c",
   "metadata": {},
   "outputs": [],
   "source": [
    "import torch\n",
    "import torch.nn as nn\n",
    "import numpy as np\n",
    "import matplotlib.pyplot as plt\n",
    "\n",
    "from torch.utils.data import Dataset, DataLoader"
   ]
  },
  {
   "cell_type": "code",
   "execution_count": 29,
   "id": "c740572e",
   "metadata": {},
   "outputs": [],
   "source": [
    "from transfer_func_models.GA_toolkit import *\n",
    "from transfer_func_models.gradient_descent_toolkit import *\n"
   ]
  },
  {
   "cell_type": "code",
   "execution_count": null,
   "id": "4e94a595",
   "metadata": {},
   "outputs": [],
   "source": [
    "train, val = get_data_sets(\"camb_transfer_data.txt\", 0.8)\n",
    "\n",
    "train_loader = DataLoader(train, batch_size=512, shuffle=True)\n",
    "val_loader   = DataLoader(val, batch_size=512, shuffle=True)\n",
    "\n",
    "test_ranges = torch.tensor([[0, 10], [0, 4], [0, 4], [0, 10], [0, 10], [0, 4], [0, 4], [0, 10], [0, 10], [0, 4], [0, 10], [0, 4], [0, 10], [0, 100], [0, 4], [0, 100], [0, 4], [0, 10], [0, 4], [0, 10], [0, 4], [0, 10], [0, 4], [0, 20], [0, 4], [0, 4]])\n",
    "test_ranges = torch.transpose(test_ranges, 0, 1)\n",
    "model = transferFunctionModel(n_params = 26, init_pars_ranges = test_ranges)\n",
    "optimizer = torch.optim.Adam(model.parameters(), lr=1e-2)#, weight_decay=1e-5)\n",
    "loss = loss_fn\n",
    "\n",
    "training_loop(1000, model, train_loader, loss, optimizer)"
   ]
  }
 ],
 "metadata": {
  "kernelspec": {
   "display_name": "Python 3 (ipykernel)",
   "language": "python",
   "name": "python3"
  },
  "language_info": {
   "codemirror_mode": {
    "name": "ipython",
    "version": 3
   },
   "file_extension": ".py",
   "mimetype": "text/x-python",
   "name": "python",
   "nbconvert_exporter": "python",
   "pygments_lexer": "ipython3",
   "version": "3.9.7"
  }
 },
 "nbformat": 4,
 "nbformat_minor": 5
}
